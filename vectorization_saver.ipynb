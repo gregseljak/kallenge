{
 "cells": [
  {
   "cell_type": "code",
   "execution_count": 1,
   "metadata": {},
   "outputs": [],
   "source": [
    "import numpy as np\n",
    "from graph_subgraph_vectorization import common_subgraph_vectorization\n",
    "from scipy.sparse import save_npz"
   ]
  },
  {
   "cell_type": "code",
   "execution_count": 2,
   "metadata": {},
   "outputs": [
    {
     "name": "stdout",
     "output_type": "stream",
     "text": [
      "start common vectorization at  1681315981.662556\n"
     ]
    },
    {
     "name": "stderr",
     "output_type": "stream",
     "text": [
      "100%|██████████| 8000/8000 [04:52<00:00, 27.31it/s] \n"
     ]
    },
    {
     "ename": "RuntimeError",
     "evalue": "Set changed size during iteration",
     "output_type": "error",
     "traceback": [
      "\u001b[0;31m---------------------------------------------------------------------------\u001b[0m",
      "\u001b[0;31mRuntimeError\u001b[0m                              Traceback (most recent call last)",
      "Cell \u001b[0;32mIn[2], line 13\u001b[0m\n\u001b[1;32m     10\u001b[0m test_set_length \u001b[39m=\u001b[39m \u001b[39mlen\u001b[39m(test_data)\n\u001b[1;32m     11\u001b[0m Graphs \u001b[39m=\u001b[39m training_data \u001b[39m+\u001b[39m test_data \n\u001b[0;32m---> 13\u001b[0m X, indexes_of_change_size_subgraphs \u001b[39m=\u001b[39m common_subgraph_vectorization(Graphs, max_size_subgraph)\n\u001b[1;32m     15\u001b[0m X_train \u001b[39m=\u001b[39m X[:train_set_length]\n\u001b[1;32m     16\u001b[0m X_test \u001b[39m=\u001b[39m X[train_set_length:]\n",
      "File \u001b[0;32m~/Desktop/MVA/kernel/kallenge/graph_subgraph_vectorization.py:26\u001b[0m, in \u001b[0;36mcommon_subgraph_vectorization\u001b[0;34m(graphs, max_num_node)\u001b[0m\n\u001b[1;32m     23\u001b[0m \u001b[39mfor\u001b[39;00m diction \u001b[39min\u001b[39;00m graphs_dict :\n\u001b[1;32m     24\u001b[0m     ALL_subgraphs\u001b[39m.\u001b[39mupdate(\u001b[39mset\u001b[39m(diction\u001b[39m.\u001b[39mkeys()))\n\u001b[0;32m---> 26\u001b[0m \u001b[39mfor\u001b[39;00m x \u001b[39min\u001b[39;00m ALL_subgraphs :\n\u001b[1;32m     27\u001b[0m     \u001b[39mif\u001b[39;00m x[\u001b[39m0\u001b[39m] \u001b[39m>\u001b[39m max_num_node :\n\u001b[1;32m     28\u001b[0m         ALL_subgraphs\u001b[39m.\u001b[39mremove(x)\n",
      "\u001b[0;31mRuntimeError\u001b[0m: Set changed size during iteration"
     ]
    }
   ],
   "source": [
    "max_size_subgraph = 6\n",
    "\n",
    "\n",
    "\n",
    "test_data = np.load('./test_data.pkl', allow_pickle=True)\n",
    "training_data = np.load('./training_data.pkl', allow_pickle=True)\n",
    "training_labels = np.load('./training_labels.pkl', allow_pickle=True)\n",
    "\n",
    "train_set_length = len(training_data)\n",
    "test_set_length = len(test_data)\n",
    "Graphs = training_data + test_data \n",
    "\n",
    "X, indexes_of_change_size_subgraphs = common_subgraph_vectorization(Graphs, max_size_subgraph)\n",
    "\n",
    "X_train = X[:train_set_length]\n",
    "X_test = X[train_set_length:]\n",
    "\n",
    "save_npz(\"./vectorizations_ordered/X_train_max_subgraph_\" + str(max_size_subgraph) , X_train)\n",
    "save_npz(\"./vectorizations_ordered/X_test_max_subgraph_\" + str(max_size_subgraph) , X_test)\n",
    "np.save(\"./vectorizations_ordered/indexes_of_change_size_subgraphs_\" + str(max_size_subgraph) , indexes_of_change_size_subgraphs)\n",
    "\n"
   ]
  },
  {
   "cell_type": "code",
   "execution_count": null,
   "metadata": {},
   "outputs": [],
   "source": [
    "# vectoriez 3.4 seco\n",
    "# not vectorized : same\n",
    "# FOR MAX SIZE 8 IT TAKES 27 mins ! for 5 it takes 4 mins  \n",
    "# does it mean that for size 10 it takes approx 270 mins ? \n"
   ]
  },
  {
   "cell_type": "code",
   "execution_count": null,
   "metadata": {},
   "outputs": [],
   "source": [
    "del X\n",
    "del X_train\n",
    "del X_test\n",
    "\n"
   ]
  },
  {
   "cell_type": "code",
   "execution_count": null,
   "metadata": {},
   "outputs": [],
   "source": []
  },
  {
   "cell_type": "code",
   "execution_count": null,
   "metadata": {},
   "outputs": [],
   "source": []
  },
  {
   "cell_type": "code",
   "execution_count": null,
   "metadata": {},
   "outputs": [],
   "source": []
  }
 ],
 "metadata": {
  "kernelspec": {
   "display_name": "base",
   "language": "python",
   "name": "python3"
  },
  "language_info": {
   "codemirror_mode": {
    "name": "ipython",
    "version": 3
   },
   "file_extension": ".py",
   "mimetype": "text/x-python",
   "name": "python",
   "nbconvert_exporter": "python",
   "pygments_lexer": "ipython3",
   "version": "3.10.9"
  },
  "orig_nbformat": 4
 },
 "nbformat": 4,
 "nbformat_minor": 2
}
