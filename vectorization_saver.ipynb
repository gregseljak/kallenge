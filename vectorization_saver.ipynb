{
 "cells": [
  {
   "cell_type": "code",
   "execution_count": 1,
   "metadata": {},
   "outputs": [],
   "source": [
    "import numpy as np\n",
    "from graph_subgraph_vectorization import common_subgraph_vectorization\n",
    "from scipy.sparse import save_npz"
   ]
  },
  {
   "cell_type": "code",
   "execution_count": 2,
   "metadata": {},
   "outputs": [
    {
     "name": "stdout",
     "output_type": "stream",
     "text": [
      "start common vectorization at  1681236111.5437324\n"
     ]
    },
    {
     "name": "stderr",
     "output_type": "stream",
     "text": [
      " 75%|███████▌  | 6013/8000 [59:57<37:13,  1.12s/it]   "
     ]
    }
   ],
   "source": [
    "max_size_subgraph = 10\n",
    "\n",
    "\n",
    "\n",
    "test_data = np.load('./test_data.pkl', allow_pickle=True)\n",
    "training_data = np.load('./training_data.pkl', allow_pickle=True)\n",
    "training_labels = np.load('./training_labels.pkl', allow_pickle=True)\n",
    "\n",
    "train_set_length = len(training_data)\n",
    "test_set_length = len(test_data)\n",
    "Graphs = training_data + test_data \n",
    "\n",
    "X = common_subgraph_vectorization(Graphs, max_size_subgraph)\n",
    "\n",
    "X_train = X[:train_set_length]\n",
    "X_test = X[train_set_length:]\n",
    "\n",
    "save_npz(\"./vectorizations/X_train_max_subgraph_\" + str(max_size_subgraph) , X_train)\n",
    "save_npz(\"./vectorizations/X_test_max_subgraph_\" + str(max_size_subgraph) , X_test)\n",
    "\n"
   ]
  },
  {
   "cell_type": "code",
   "execution_count": null,
   "metadata": {},
   "outputs": [],
   "source": [
    "# vectoriez 3.4 seco\n",
    "# not vectorized : same\n",
    "# FOR MAX SIZE 8 IT TAKES 27 mins ! for 5 it takes 4 mins  \n",
    "# does it mean that for size 10 it takes approx 270 mins ? \n"
   ]
  },
  {
   "cell_type": "code",
   "execution_count": null,
   "metadata": {},
   "outputs": [],
   "source": [
    "del X\n",
    "del X_train\n",
    "del X_test\n",
    "\n"
   ]
  },
  {
   "cell_type": "code",
   "execution_count": null,
   "metadata": {},
   "outputs": [],
   "source": []
  },
  {
   "cell_type": "code",
   "execution_count": null,
   "metadata": {},
   "outputs": [],
   "source": []
  },
  {
   "cell_type": "code",
   "execution_count": null,
   "metadata": {},
   "outputs": [],
   "source": []
  }
 ],
 "metadata": {
  "kernelspec": {
   "display_name": "base",
   "language": "python",
   "name": "python3"
  },
  "language_info": {
   "codemirror_mode": {
    "name": "ipython",
    "version": 3
   },
   "file_extension": ".py",
   "mimetype": "text/x-python",
   "name": "python",
   "nbconvert_exporter": "python",
   "pygments_lexer": "ipython3",
   "version": "3.10.9"
  },
  "orig_nbformat": 4
 },
 "nbformat": 4,
 "nbformat_minor": 2
}
